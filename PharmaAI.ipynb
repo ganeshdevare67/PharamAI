{
 "cells": [
  {
   "cell_type": "code",
   "execution_count": 1,
   "metadata": {},
   "outputs": [],
   "source": [
    "import pandas as pd \n",
    "import numpy as np \n",
    "import matplotlib.pyplot as plt\n",
    "import seaborn as sns"
   ]
  },
  {
   "cell_type": "code",
   "execution_count": 2,
   "metadata": {},
   "outputs": [],
   "source": [
    "data = pd.read_csv(\"PharamAI.csv\")"
   ]
  },
  {
   "cell_type": "code",
   "execution_count": 3,
   "metadata": {},
   "outputs": [],
   "source": [
    "df = data.copy()"
   ]
  },
  {
   "cell_type": "code",
   "execution_count": 4,
   "metadata": {},
   "outputs": [
    {
     "data": {
      "text/html": [
       "<div>\n",
       "<style scoped>\n",
       "    .dataframe tbody tr th:only-of-type {\n",
       "        vertical-align: middle;\n",
       "    }\n",
       "\n",
       "    .dataframe tbody tr th {\n",
       "        vertical-align: top;\n",
       "    }\n",
       "\n",
       "    .dataframe thead th {\n",
       "        text-align: right;\n",
       "    }\n",
       "</style>\n",
       "<table border=\"1\" class=\"dataframe\">\n",
       "  <thead>\n",
       "    <tr style=\"text-align: right;\">\n",
       "      <th></th>\n",
       "      <th>Data Load</th>\n",
       "      <th>Claim Id</th>\n",
       "      <th>Claim Date</th>\n",
       "      <th>HCP ID</th>\n",
       "      <th>Specialty_Group</th>\n",
       "      <th>State</th>\n",
       "      <th>Payment Type</th>\n",
       "      <th>Target HCP</th>\n",
       "      <th>Product</th>\n",
       "      <th>Out of Pocket in $</th>\n",
       "      <th>Out of Pocket Type</th>\n",
       "      <th>Days Of Supply</th>\n",
       "      <th>Therapy</th>\n",
       "      <th>12 Month LB Period</th>\n",
       "    </tr>\n",
       "  </thead>\n",
       "  <tbody>\n",
       "    <tr>\n",
       "      <th>0</th>\n",
       "      <td>14-Apr</td>\n",
       "      <td>52</td>\n",
       "      <td>1/1/2021</td>\n",
       "      <td>1516.0</td>\n",
       "      <td>NEUROLOGY</td>\n",
       "      <td>CA</td>\n",
       "      <td>State Medicaid</td>\n",
       "      <td>N</td>\n",
       "      <td>eptinezumab</td>\n",
       "      <td>125.0</td>\n",
       "      <td>Coinsurance</td>\n",
       "      <td>56.0</td>\n",
       "      <td>Migraine</td>\n",
       "      <td>N</td>\n",
       "    </tr>\n",
       "    <tr>\n",
       "      <th>1</th>\n",
       "      <td>14-Apr</td>\n",
       "      <td>60</td>\n",
       "      <td>1/1/2021</td>\n",
       "      <td>1301.0</td>\n",
       "      <td>NEUROLOGY</td>\n",
       "      <td>CA</td>\n",
       "      <td>Medicare MAPDP</td>\n",
       "      <td>Y</td>\n",
       "      <td>Ajovy</td>\n",
       "      <td>41.0</td>\n",
       "      <td>Coinsurance</td>\n",
       "      <td>56.0</td>\n",
       "      <td>Migraine</td>\n",
       "      <td>Y</td>\n",
       "    </tr>\n",
       "    <tr>\n",
       "      <th>2</th>\n",
       "      <td>14-Apr</td>\n",
       "      <td>107</td>\n",
       "      <td>1/1/2021</td>\n",
       "      <td>1798.0</td>\n",
       "      <td>PSYCHIATRY</td>\n",
       "      <td>DC</td>\n",
       "      <td>Medicare MAPDP</td>\n",
       "      <td>N</td>\n",
       "      <td>Emgality</td>\n",
       "      <td>129.0</td>\n",
       "      <td>Deductible</td>\n",
       "      <td>84.0</td>\n",
       "      <td>Migraine</td>\n",
       "      <td>Y</td>\n",
       "    </tr>\n",
       "    <tr>\n",
       "      <th>3</th>\n",
       "      <td>14-Apr</td>\n",
       "      <td>174</td>\n",
       "      <td>1/1/2021</td>\n",
       "      <td>1898.0</td>\n",
       "      <td>PSYCHIATRY</td>\n",
       "      <td>DE</td>\n",
       "      <td>Medicare MAPDP</td>\n",
       "      <td>Y</td>\n",
       "      <td>Aimovig</td>\n",
       "      <td>97.0</td>\n",
       "      <td>Deductible</td>\n",
       "      <td>84.0</td>\n",
       "      <td>Migraine</td>\n",
       "      <td>N</td>\n",
       "    </tr>\n",
       "    <tr>\n",
       "      <th>4</th>\n",
       "      <td>14-Apr</td>\n",
       "      <td>265</td>\n",
       "      <td>1/1/2021</td>\n",
       "      <td>1692.0</td>\n",
       "      <td>PSYCHIATRY</td>\n",
       "      <td>OH</td>\n",
       "      <td>Commercial</td>\n",
       "      <td>N</td>\n",
       "      <td>eptinezumab</td>\n",
       "      <td>25.0</td>\n",
       "      <td>Deductible</td>\n",
       "      <td>84.0</td>\n",
       "      <td>Migraine</td>\n",
       "      <td>Y</td>\n",
       "    </tr>\n",
       "  </tbody>\n",
       "</table>\n",
       "</div>"
      ],
      "text/plain": [
       "  Data Load  Claim Id Claim Date  HCP ID Specialty_Group State  \\\n",
       "0    14-Apr        52   1/1/2021  1516.0       NEUROLOGY    CA   \n",
       "1    14-Apr        60   1/1/2021  1301.0       NEUROLOGY    CA   \n",
       "2    14-Apr       107   1/1/2021  1798.0      PSYCHIATRY    DC   \n",
       "3    14-Apr       174   1/1/2021  1898.0      PSYCHIATRY    DE   \n",
       "4    14-Apr       265   1/1/2021  1692.0      PSYCHIATRY    OH   \n",
       "\n",
       "     Payment Type Target HCP      Product  Out of Pocket in $  \\\n",
       "0  State Medicaid          N  eptinezumab               125.0   \n",
       "1  Medicare MAPDP          Y        Ajovy                41.0   \n",
       "2  Medicare MAPDP          N     Emgality               129.0   \n",
       "3  Medicare MAPDP          Y      Aimovig                97.0   \n",
       "4      Commercial          N  eptinezumab                25.0   \n",
       "\n",
       "  Out of Pocket Type  Days Of Supply   Therapy 12 Month LB Period  \n",
       "0        Coinsurance            56.0  Migraine                  N  \n",
       "1        Coinsurance            56.0  Migraine                  Y  \n",
       "2         Deductible            84.0  Migraine                  Y  \n",
       "3         Deductible            84.0  Migraine                  N  \n",
       "4         Deductible            84.0  Migraine                  Y  "
      ]
     },
     "execution_count": 4,
     "metadata": {},
     "output_type": "execute_result"
    }
   ],
   "source": [
    "df.head()"
   ]
  },
  {
   "cell_type": "code",
   "execution_count": 5,
   "metadata": {},
   "outputs": [
    {
     "data": {
      "text/plain": [
       "(100000, 14)"
      ]
     },
     "execution_count": 5,
     "metadata": {},
     "output_type": "execute_result"
    }
   ],
   "source": [
    "df.shape"
   ]
  },
  {
   "cell_type": "markdown",
   "metadata": {},
   "source": [
    "## <span style=color:red>Description of Data</span>\n",
    "* Data Load : date of data loaded\n",
    "* Claim ID : its unique that's why its primary key\n",
    "* Claim Date : Claiming Date between January and February\n",
    "* HCP ID: Healthcare Professional ID\n",
    "* Target HCP \n",
    "* Out of Pocket in $\n",
    "* Therapy\n",
    "* Days of Supply\n",
    "* 12 Month LB Period \n",
    "\n",
    "#### Specialty Group:\n",
    "* PSYCHIATRY : Diagnosis, treatment of mental disorders\n",
    "* NEUROLOGY :  dealing with disorders of the nervous system\n",
    "* IM/FM : Internal Medicine and Family Medicine\n",
    "* NP/PA : \n",
    "\n",
    "#### State : all the countries form the United State\n",
    "\n",
    "#### Payment type: \n",
    "* State Medicaid\n",
    "* Commercial\n",
    "* Medicare MAPDP\n",
    "* Medicare PDP\n",
    "* Managed Medicaid\n",
    "* Other\n",
    "\n",
    "#### Product :\n",
    "* eptinezumab\n",
    "* Ajovy\n",
    "* Emagality\n",
    "* Aimovig\n",
    "\n",
    "#### Out of Pocket Type :\n",
    "* Coinsurance\n",
    "* Deductible : Firstly Paid by user then after Insurance company will give to user\n",
    "* Copay : 10% amount to pay by user to Hospital/__"
   ]
  },
  {
   "cell_type": "markdown",
   "metadata": {},
   "source": [
    "### Feature Engineering and Exploratory Data Analysis"
   ]
  },
  {
   "cell_type": "code",
   "execution_count": 6,
   "metadata": {},
   "outputs": [
    {
     "data": {
      "text/plain": [
       "Data Load             0\n",
       "Claim Id              0\n",
       "Claim Date            0\n",
       "HCP ID                1\n",
       "Specialty_Group       1\n",
       "State                 1\n",
       "Payment Type          1\n",
       "Target HCP            1\n",
       "Product               2\n",
       "Out of Pocket in $    4\n",
       "Out of Pocket Type    4\n",
       "Days Of Supply        7\n",
       "Therapy               1\n",
       "12 Month LB Period    0\n",
       "dtype: int64"
      ]
     },
     "execution_count": 6,
     "metadata": {},
     "output_type": "execute_result"
    }
   ],
   "source": [
    "df.isnull().sum()"
   ]
  },
  {
   "cell_type": "markdown",
   "metadata": {},
   "source": [
    "#### Their are countable NULL values so we can fill it by central tendency"
   ]
  },
  {
   "cell_type": "code",
   "execution_count": 7,
   "metadata": {},
   "outputs": [
    {
     "data": {
      "text/plain": [
       "['HCP ID',\n",
       " 'Specialty_Group',\n",
       " 'State',\n",
       " 'Payment Type',\n",
       " 'Target HCP',\n",
       " 'Product',\n",
       " 'Out of Pocket in $',\n",
       " 'Out of Pocket Type',\n",
       " 'Days Of Supply',\n",
       " 'Therapy']"
      ]
     },
     "execution_count": 7,
     "metadata": {},
     "output_type": "execute_result"
    }
   ],
   "source": [
    "null_feature = [feature for feature in df.columns if df[feature].isnull().sum()>=1]\n",
    "\n",
    "null_feature"
   ]
  },
  {
   "cell_type": "markdown",
   "metadata": {},
   "source": [
    "#### Deal with NULL values"
   ]
  },
  {
   "cell_type": "code",
   "execution_count": 8,
   "metadata": {},
   "outputs": [],
   "source": [
    "for feature in null_feature:\n",
    "    df[feature]=df[feature].fillna(df[feature].mode()[0])    "
   ]
  },
  {
   "cell_type": "markdown",
   "metadata": {},
   "source": [
    "#### Separating the Categorical and Numerical Columns"
   ]
  },
  {
   "cell_type": "code",
   "execution_count": 9,
   "metadata": {},
   "outputs": [],
   "source": [
    "cols = df.columns\n",
    "num_cols= df._get_numeric_data().columns\n",
    "cat_cols = list(set(cols) - set(num_cols))"
   ]
  },
  {
   "cell_type": "code",
   "execution_count": 10,
   "metadata": {},
   "outputs": [
    {
     "data": {
      "text/plain": [
       "Index(['Claim Id', 'HCP ID', 'Out of Pocket in $', 'Days Of Supply'], dtype='object')"
      ]
     },
     "execution_count": 10,
     "metadata": {},
     "output_type": "execute_result"
    }
   ],
   "source": [
    "num_cols"
   ]
  },
  {
   "cell_type": "markdown",
   "metadata": {},
   "source": [
    "#### Checking Outlier from the Data"
   ]
  },
  {
   "cell_type": "code",
   "execution_count": 11,
   "metadata": {
    "scrolled": false
   },
   "outputs": [
    {
     "data": {
      "image/png": "[encoded data removed]",
      "text/plain": [
       "<Figure size 432x288 with 1 Axes>"
      ]
     },
     "metadata": {
      "needs_background": "light"
     },
     "output_type": "display_data"
    },
    {
     "data": {
      "image/png": "[encoded data removed]",
      "text/plain": [
       "<Figure size 432x288 with 1 Axes>"
      ]
     },
     "metadata": {
      "needs_background": "light"
     },
     "output_type": "display_data"
    },
    {
     "data": {
      "image/png": "[encoded data removed]",
      "text/plain": [
       "<Figure size 432x288 with 1 Axes>"
      ]
     },
     "metadata": {
      "needs_background": "light"
     },
     "output_type": "display_data"
    },
    {
     "data": {
      "image/png": "[encoded data removed]",
      "text/plain": [
       "<Figure size 432x288 with 1 Axes>"
      ]
     },
     "metadata": {
      "needs_background": "light"
     },
     "output_type": "display_data"
    }
   ],
   "source": [
    "for feature in num_cols:\n",
    "    sns.boxplot(feature, data=df)\n",
    "    plt.show()"
   ]
  },
  {
   "cell_type": "markdown",
   "metadata": {},
   "source": [
    "#### Conclusion: Their is no Outlier in Numerical data"
   ]
  },
  {
   "cell_type": "code",
   "execution_count": 12,
   "metadata": {
    "scrolled": false
   },
   "outputs": [
    {
     "data": {
      "image/png": "[encoded data removed]",
      "text/plain": [
       "<Figure size 432x288 with 1 Axes>"
      ]
     },
     "metadata": {
      "needs_background": "light"
     },
     "output_type": "display_data"
    },
    {
     "data": {
      "image/png": "[encoded data removed]",
      "text/plain": [
       "<Figure size 432x288 with 1 Axes>"
      ]
     },
     "metadata": {
      "needs_background": "light"
     },
     "output_type": "display_data"
    },
    {
     "data": {
      "image/png": "[encoded data removed]",
      "text/plain": [
       "<Figure size 432x288 with 1 Axes>"
      ]
     },
     "metadata": {
      "needs_background": "light"
     },
     "output_type": "display_data"
    },
    {
     "data": {
      "image/png": "[encoded data removed]",
      "text/plain": [
       "<Figure size 432x288 with 1 Axes>"
      ]
     },
     "metadata": {
      "needs_background": "light"
     },
     "output_type": "display_data"
    },
    {
     "data": {
      "image/png": "[encoded data removed]",
      "text/plain": [
       "<Figure size 432x288 with 1 Axes>"
      ]
     },
     "metadata": {
      "needs_background": "light"
     },
     "output_type": "display_data"
    },
    {
     "data": {
      "image/png": "[encoded data removed]",
      "text/plain": [
       "<Figure size 432x288 with 1 Axes>"
      ]
     },
     "metadata": {
      "needs_background": "light"
     },
     "output_type": "display_data"
    },
    {
     "data": {
      "image/png": "[encoded data removed]",
      "text/plain": [
       "<Figure size 432x288 with 1 Axes>"
      ]
     },
     "metadata": {
      "needs_background": "light"
     },
     "output_type": "display_data"
    }
   ],
   "source": [
    "for feature in cat_cols:\n",
    "    if feature == \"Claim Date\" or feature == \"State\" or feature == \"Data Load\":\n",
    "        pass\n",
    "    else:\n",
    "        sns.countplot(y=df[feature], orient=\"h\")\n",
    "        plt.show()"
   ]
  },
  {
   "cell_type": "code",
   "execution_count": 13,
   "metadata": {},
   "outputs": [
    {
     "data": {
      "image/png": "[encoded data removed]",
      "text/plain": [
       "<Figure size 1152x864 with 1 Axes>"
      ]
     },
     "metadata": {
      "needs_background": "light"
     },
     "output_type": "display_data"
    }
   ],
   "source": [
    "plt.figure(figsize=(16,12))\n",
    "sns.countplot(y=df[\"State\"])\n",
    "plt.show()"
   ]
  },
  {
   "cell_type": "markdown",
   "metadata": {},
   "source": [
    "### Which product is the leading the market?"
   ]
  },
  {
   "cell_type": "code",
   "execution_count": 14,
   "metadata": {},
   "outputs": [
    {
     "data": {
      "text/plain": [
       "<matplotlib.axes._subplots.AxesSubplot at 0x16f3b599b50>"
      ]
     },
     "execution_count": 14,
     "metadata": {},
     "output_type": "execute_result"
    },
    {
     "data": {
      "image/png": "[encoded data removed]",
      "text/plain": [
       "<Figure size 432x288 with 1 Axes>"
      ]
     },
     "metadata": {
      "needs_background": "light"
     },
     "output_type": "display_data"
    }
   ],
   "source": [
    "df.groupby(\"Product\")[\"Out of Pocket in $\"].sum().plot(kind=\"barh\")"
   ]
  },
  {
   "cell_type": "markdown",
   "metadata": {},
   "source": [
    "### What is the average out of Pocket?"
   ]
  },
  {
   "cell_type": "code",
   "execution_count": 15,
   "metadata": {},
   "outputs": [
    {
     "data": {
      "text/plain": [
       "57.05064"
      ]
     },
     "execution_count": 15,
     "metadata": {},
     "output_type": "execute_result"
    }
   ],
   "source": [
    "df[\"Out of Pocket in $\"].mean()"
   ]
  },
  {
   "cell_type": "markdown",
   "metadata": {},
   "source": [
    "### Does demographic have any influence on the scale?"
   ]
  },
  {
   "cell_type": "code",
   "execution_count": 28,
   "metadata": {
    "scrolled": false
   },
   "outputs": [
    {
     "data": {
      "text/plain": [
       "<matplotlib.axes._subplots.AxesSubplot at 0x16f3bb62e20>"
      ]
     },
     "execution_count": 28,
     "metadata": {},
     "output_type": "execute_result"
    },
    {
     "data": {
      "image/png": "[encoded data removed]",
      "text/plain": [
       "<Figure size 1296x576 with 1 Axes>"
      ]
     },
     "metadata": {
      "needs_background": "light"
     },
     "output_type": "display_data"
    }
   ],
   "source": [
    "plt.figure(figsize=(18,8))\n",
    "df.groupby([\"State\"])[\"Out of Pocket in $\"].count().plot(kind=\"bar\")"
   ]
  },
  {
   "cell_type": "markdown",
   "metadata": {},
   "source": [
    "### Who are my top 50 potential-targets?"
   ]
  },
  {
   "cell_type": "code",
   "execution_count": 33,
   "metadata": {},
   "outputs": [],
   "source": [
    "new_df = df[df[\"Target HCP\"]==\"Y\"]\n",
    "potential_target = new_df.groupby(\"HCP ID\")[\"Claim Id\"].count()"
   ]
  },
  {
   "cell_type": "code",
   "execution_count": 35,
   "metadata": {
    "scrolled": false
   },
   "outputs": [
    {
     "data": {
      "text/plain": [
       "HCP ID\n",
       "1297.0    123\n",
       "1573.0    123\n",
       "1792.0    116\n",
       "1852.0    116\n",
       "1909.0    116\n",
       "1077.0    115\n",
       "1125.0    115\n",
       "1342.0    115\n",
       "1860.0    115\n",
       "1032.0    114\n",
       "1233.0    114\n",
       "1622.0    114\n",
       "1782.0    114\n",
       "1871.0    114\n",
       "1981.0    114\n",
       "2019.0    114\n",
       "2020.0    114\n",
       "1228.0    113\n",
       "1267.0    113\n",
       "1388.0    113\n",
       "1512.0    113\n",
       "1712.0    113\n",
       "1787.0    113\n",
       "1862.0    113\n",
       "1984.0    113\n",
       "1296.0    112\n",
       "1640.0    112\n",
       "1273.0    111\n",
       "1442.0    111\n",
       "1585.0    111\n",
       "1732.0    111\n",
       "1828.0    111\n",
       "1223.0    110\n",
       "1436.0    110\n",
       "1701.0    110\n",
       "1827.0    110\n",
       "1844.0    110\n",
       "1865.0    110\n",
       "1912.0    110\n",
       "1152.0    109\n",
       "1201.0    109\n",
       "1361.0    109\n",
       "1038.0    108\n",
       "1093.0    108\n",
       "1190.0    108\n",
       "1314.0    108\n",
       "1797.0    108\n",
       "1845.0    108\n",
       "2004.0    108\n",
       "1027.0    107\n",
       "Name: Claim Id, dtype: int64"
      ]
     },
     "execution_count": 35,
     "metadata": {},
     "output_type": "execute_result"
    }
   ],
   "source": [
    "potential_target.nlargest(50)"
   ]
  },
  {
   "cell_type": "markdown",
   "metadata": {},
   "source": [
    "#### This are the top 50 Healthcare Professional ID"
   ]
  }
 ],
 "metadata": {
  "kernelspec": {
   "display_name": "Python 3",
   "language": "python",
   "name": "python3"
  },
  "language_info": {
   "codemirror_mode": {
    "name": "ipython",
    "version": 3
   },
   "file_extension": ".py",
   "mimetype": "text/x-python",
   "name": "python",
   "nbconvert_exporter": "python",
   "pygments_lexer": "ipython3",
   "version": "3.8.3"
  }
 },
 "nbformat": 4,
 "nbformat_minor": 4
}
